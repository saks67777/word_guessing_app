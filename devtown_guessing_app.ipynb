{
  "nbformat": 4,
  "nbformat_minor": 0,
  "metadata": {
    "colab": {
      "provenance": []
    },
    "kernelspec": {
      "name": "python3",
      "display_name": "Python 3"
    },
    "language_info": {
      "name": "python"
    }
  },
  "cells": [
    {
      "cell_type": "code",
      "execution_count": null,
      "metadata": {
        "id": "_XkwDlVyLl2S"
      },
      "outputs": [],
      "source": [
        "import numpy as np"
      ]
    },
    {
      "cell_type": "code",
      "source": [
        "def guess_handle(a): \n",
        "  for i in range(0,len(current_word),1):\n",
        "    if current_word[i]==a or current_word[i]==a.swapcase():\n",
        "      print(current_word[i],end=\"\")\n",
        "      guessed[i]=True\n",
        "    elif guessed[i]==True:\n",
        "      print(current_word[i],end=\"\")\n",
        "    else:\n",
        "      print(\" _ \",end=\"\")\n",
        "  print()\n",
        "def wincheck():\n",
        "  k=1\n",
        "  for i in range(0,len(current_word),1):\n",
        "    if guessed[i]==False:\n",
        "      k=0\n",
        "  return k    "
      ],
      "metadata": {
        "id": "B5xYm6qEQJAE"
      },
      "execution_count": null,
      "outputs": []
    },
    {
      "cell_type": "code",
      "source": [
        "choice=input(\"Enter y,Y or yes for adding own word. Else we use default word: \")\n",
        "if choice==\"Y\" or choice=='y' or choice==\"yes\":\n",
        "  current_word=input(\"Enter a word\")\n",
        "else:\n",
        "  words=[\"random\",\"human\",\"warzone\",\"physics\",\"mathematics\",\"gaming\",\"strong\",\"fight\",\"cooler\",\"Python\"]\n",
        "  random=np.random.randint(0,len(words))\n",
        "  current_word=words[random]\n",
        "guessed=[False for counter in range(len(current_word))]"
      ],
      "metadata": {
        "colab": {
          "base_uri": "https://localhost:8080/"
        },
        "id": "2yVS-3TpDqVA",
        "outputId": "6d0a106c-a865-4f4f-91b1-c55e9bf1bafc"
      },
      "execution_count": null,
      "outputs": [
        {
          "name": "stdout",
          "output_type": "stream",
          "text": [
            "Enter y,Y or yes for adding own word. Else we use default word: n\n"
          ]
        }
      ]
    },
    {
      "cell_type": "code",
      "source": [
        "player_name=input(\"Enter your name: \")\n",
        "print(\"Hi\",player_name)\n",
        "print(\"Welcome to guessing game\\nHere, goal is to guess all the letters of the word in 15 attempts.\\nEach guess costs an attempt.\\nIf you guess in 15 attempts, you win\\nElse you lose\\nDon't repeat guess\")\n",
        "guesses_left,win=15,False\n",
        "while(guesses_left!=0):\n",
        "  print(\"Guess a letter. You currently have \", end=\"\")\n",
        "  print(guesses_left,end=\" \")\n",
        "  print(\"guesses left\")\n",
        "  guess=input()\n",
        "  if len(guess)!=1:\n",
        "    print(\"Guess exactly one letter. Guess wasted\")\n",
        "  else:\n",
        "    guess_handle(guess)\n",
        "  guesses_left-=1\n",
        "  if wincheck()==1:\n",
        "    break\n",
        "\n",
        "if wincheck()!=1:\n",
        "  print(\"You lost the game\")\n",
        "else:\n",
        "  print(\"You won the game\")\n",
        "\n",
        "\n",
        "  "
      ],
      "metadata": {
        "colab": {
          "base_uri": "https://localhost:8080/"
        },
        "id": "nOozoITntNKo",
        "outputId": "84cedae2-3c4c-4d63-a9b7-56d7a0f69aee"
      },
      "execution_count": null,
      "outputs": [
        {
          "output_type": "stream",
          "name": "stdout",
          "text": [
            "Enter your name: wd\n",
            "Hi wd\n",
            "Welcome to guessing game\n",
            "Here, goal is to guess all the letters of the word in 15 attempts.\n",
            "Each guess costs an attempt.\n",
            "If you guess in 15 attempts, you win\n",
            "Else you lose\n",
            "Don't repeat guess\n",
            "Guess a letter. You currently have 3 guesses left\n",
            "q\n",
            "w\n",
            " _  _  _  _  _ \n",
            "Guess a letter. You currently have 2 guesses left\n",
            " _  _  _  _  _ \n",
            "Guess a letter. You currently have 1 guesses left\n",
            "w\n",
            " _  _  _  _  _ \n",
            "You lost the game\n"
          ]
        }
      ]
    },
    {
      "cell_type": "code",
      "source": [
        "type('A')"
      ],
      "metadata": {
        "id": "LA457w-46EID",
        "colab": {
          "base_uri": "https://localhost:8080/"
        },
        "outputId": "89076341-6e91-4096-e277-aa044b0f9bb7"
      },
      "execution_count": null,
      "outputs": [
        {
          "output_type": "execute_result",
          "data": {
            "text/plain": [
              "str"
            ]
          },
          "metadata": {},
          "execution_count": 8
        }
      ]
    },
    {
      "cell_type": "code",
      "source": [
        "current_word"
      ],
      "metadata": {
        "colab": {
          "base_uri": "https://localhost:8080/",
          "height": 36
        },
        "id": "IzSbI0591yr0",
        "outputId": "aca25769-c1cf-4cbb-e142-c702db037ce6"
      },
      "execution_count": null,
      "outputs": [
        {
          "output_type": "execute_result",
          "data": {
            "text/plain": [
              "'fight'"
            ],
            "application/vnd.google.colaboratory.intrinsic+json": {
              "type": "string"
            }
          },
          "metadata": {},
          "execution_count": 61
        }
      ]
    },
    {
      "cell_type": "code",
      "source": [
        "guessed"
      ],
      "metadata": {
        "colab": {
          "base_uri": "https://localhost:8080/"
        },
        "id": "AhTGYY-H5JaB",
        "outputId": "977dc44c-b066-4647-9878-e58eaff7b3f2"
      },
      "execution_count": null,
      "outputs": [
        {
          "output_type": "execute_result",
          "data": {
            "text/plain": [
              "[False, False, False, False, False, False]"
            ]
          },
          "metadata": {},
          "execution_count": 27
        }
      ]
    },
    {
      "cell_type": "code",
      "source": [
        "print(\"    O\")\n",
        "print(\"    |\")\n",
        "print(\"   \\\\\",end=\"\")\n",
        "print(\"|\",end=\"\")\n",
        "print(\"/\")\n",
        "print(\"    |\")\n",
        "print(\"    |\")\n",
        "print(\"   /\",end=\"\")\n",
        "print(\"|\",end=\"\")\n",
        "print(\"\\\\\",end=\"\")\n",
        "\n",
        "\n",
        "\n",
        "#if wrong_guess>=1:\n",
        " #print(\"    O\")\n"
      ],
      "metadata": {
        "colab": {
          "base_uri": "https://localhost:8080/"
        },
        "id": "bcI6tUiC5m3i",
        "outputId": "c387c5d7-13b5-4ed8-f5b0-34a256c87584"
      },
      "execution_count": null,
      "outputs": [
        {
          "output_type": "stream",
          "name": "stdout",
          "text": [
            "    O\n",
            "    |\n",
            "   \\|/\n",
            "    |\n",
            "    |\n",
            "   /|\\"
          ]
        }
      ]
    }
  ]
}